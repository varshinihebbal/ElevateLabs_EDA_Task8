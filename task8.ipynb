{
  "nbformat": 4,
  "nbformat_minor": 0,
  "metadata": {
    "colab": {
      "provenance": [],
      "authorship_tag": "ABX9TyNw4jznLoLSdvr8B1cL7rW7",
      "include_colab_link": true
    },
    "kernelspec": {
      "name": "python3",
      "display_name": "Python 3"
    },
    "language_info": {
      "name": "python"
    }
  },
  "cells": [
    {
      "cell_type": "markdown",
      "metadata": {
        "id": "view-in-github",
        "colab_type": "text"
      },
      "source": [
        "<a href=\"https://colab.research.google.com/github/varshinihebbal/ElevateLabs_EDA_Task8/blob/main/task8.ipynb\" target=\"_parent\"><img src=\"https://colab.research.google.com/assets/colab-badge.svg\" alt=\"Open In Colab\"/></a>"
      ]
    },
    {
      "cell_type": "code",
      "execution_count": 1,
      "metadata": {
        "id": "SaOQHrPlNq10"
      },
      "outputs": [],
      "source": [
        "# Step 0: Import Libraries\n",
        "import pandas as pd\n",
        "import numpy as np\n",
        "import matplotlib.pyplot as plt\n",
        "from sklearn.cluster import KMeans\n",
        "from sklearn.preprocessing import StandardScaler\n",
        "from sklearn.metrics import silhouette_score"
      ]
    },
    {
      "cell_type": "code",
      "source": [
        "# Step 1: Load the Dataset\n",
        "df = pd.read_csv(\"Mall_Customers.csv\")\n",
        "\n",
        "print(\"--- DataFrame Head ---\")\n",
        "print(df.head())\n",
        "\n",
        "print(\"\\n--- DataFrame Info ---\")\n",
        "df.info()"
      ],
      "metadata": {
        "colab": {
          "base_uri": "https://localhost:8080/"
        },
        "id": "6FFD8XlpNuku",
        "outputId": "4b444193-8cda-4bab-f3cd-98b6682f9295"
      },
      "execution_count": 4,
      "outputs": [
        {
          "output_type": "stream",
          "name": "stdout",
          "text": [
            "--- DataFrame Head ---\n",
            "   CustomerID  Gender  Age  Annual Income (k$)  Spending Score (1-100)\n",
            "0           1    Male   19                  15                      39\n",
            "1           2    Male   21                  15                      81\n",
            "2           3  Female   20                  16                       6\n",
            "3           4  Female   23                  16                      77\n",
            "4           5  Female   31                  17                      40\n",
            "\n",
            "--- DataFrame Info ---\n",
            "<class 'pandas.core.frame.DataFrame'>\n",
            "RangeIndex: 200 entries, 0 to 199\n",
            "Data columns (total 5 columns):\n",
            " #   Column                  Non-Null Count  Dtype \n",
            "---  ------                  --------------  ----- \n",
            " 0   CustomerID              200 non-null    int64 \n",
            " 1   Gender                  200 non-null    object\n",
            " 2   Age                     200 non-null    int64 \n",
            " 3   Annual Income (k$)      200 non-null    int64 \n",
            " 4   Spending Score (1-100)  200 non-null    int64 \n",
            "dtypes: int64(4), object(1)\n",
            "memory usage: 7.9+ KB\n"
          ]
        }
      ]
    },
    {
      "cell_type": "code",
      "source": [
        "# Step 2.1: Select the features for clustering\n",
        "X = df[['Annual Income (k$)', 'Spending Score (1-100)']].values\n",
        "\n",
        "# Step 2.2: Scale the features\n",
        "# K-Means uses distance measures, so features must be on a similar scale.\n",
        "scaler = StandardScaler()\n",
        "X_scaled = scaler.fit_transform(X)\n",
        "\n",
        "print(\"\\nFirst 5 scaled data points:\")\n",
        "print(X_scaled[:5])"
      ],
      "metadata": {
        "colab": {
          "base_uri": "https://localhost:8080/"
        },
        "id": "VQGNFbzGNwS9",
        "outputId": "04fcef7c-cf67-4642-fc70-f04de6d2d2bd"
      },
      "execution_count": 5,
      "outputs": [
        {
          "output_type": "stream",
          "name": "stdout",
          "text": [
            "\n",
            "First 5 scaled data points:\n",
            "[[-1.73899919 -0.43480148]\n",
            " [-1.73899919  1.19570407]\n",
            " [-1.70082976 -1.71591298]\n",
            " [-1.70082976  1.04041783]\n",
            " [-1.66266033 -0.39597992]]\n"
          ]
        }
      ]
    },
    {
      "cell_type": "code",
      "source": [
        "# Step 3: Use the Elbow Method to find the optimal K\n",
        "inertia = []\n",
        "K_range = range(1, 11)\n",
        "\n",
        "for k in K_range:\n",
        "    kmeans = KMeans(n_clusters=k, init='k-means++', random_state=42, n_init=10)\n",
        "    kmeans.fit(X_scaled)\n",
        "    inertia.append(kmeans.inertia_)\n",
        "\n",
        "# Plot the Elbow Curve\n",
        "plt.figure(figsize=(10, 6))\n",
        "plt.plot(K_range, inertia, marker='o', linestyle='--')\n",
        "plt.title('Elbow Method for Optimal K')\n",
        "plt.xlabel('Number of Clusters (K)')\n",
        "plt.ylabel('Inertia (Within-Cluster Sum of Squares)')\n",
        "plt.xticks(K_range)\n",
        "plt.grid(True)\n",
        "plt.savefig('elbow_method.png')\n",
        "plt.close()"
      ],
      "metadata": {
        "id": "bv3UYPpMN4ul"
      },
      "execution_count": 6,
      "outputs": []
    },
    {
      "cell_type": "code",
      "source": [
        "# Step 4.1: Fit K-Means with the optimal K (K=5)\n",
        "optimal_k = 5\n",
        "kmeans = KMeans(n_clusters=optimal_k, init='k-means++', random_state=42, n_init=10)\n",
        "df['Cluster'] = kmeans.fit_predict(X_scaled)\n",
        "\n",
        "# Step 4.2: Extract cluster centroids (transformed back to original scale)\n",
        "# Note: Centroids are in the scaled space, we inverse transform for interpretability\n",
        "centroids_scaled = kmeans.cluster_centers_\n",
        "centroids_original = scaler.inverse_transform(centroids_scaled)\n",
        "centroids_df = pd.DataFrame(centroids_original, columns=['Annual Income (k$)', 'Spending Score (1-100)'])\n",
        "\n",
        "# Step 4.3: Evaluate Clustering with Silhouette Score\n",
        "# The score is calculated on the scaled data and the assigned labels.\n",
        "score = silhouette_score(X_scaled, df['Cluster'])\n",
        "\n",
        "print(f\"\\nOptimal Number of Clusters (K): {optimal_k}\")\n",
        "print(f\"Silhouette Score: {score:.4f}\")\n",
        "print(\"\\nCluster Centroids (Original Scale) for Interpretation:\")\n",
        "print(centroids_df)"
      ],
      "metadata": {
        "colab": {
          "base_uri": "https://localhost:8080/"
        },
        "id": "lvy0iWjPN5xs",
        "outputId": "3fba6842-86f5-4496-ef38-efd4210e0e30"
      },
      "execution_count": 7,
      "outputs": [
        {
          "output_type": "stream",
          "name": "stdout",
          "text": [
            "\n",
            "Optimal Number of Clusters (K): 5\n",
            "Silhouette Score: 0.5547\n",
            "\n",
            "Cluster Centroids (Original Scale) for Interpretation:\n",
            "   Annual Income (k$)  Spending Score (1-100)\n",
            "0           55.296296               49.518519\n",
            "1           86.538462               82.128205\n",
            "2           25.727273               79.363636\n",
            "3           88.200000               17.114286\n",
            "4           26.304348               20.913043\n"
          ]
        }
      ]
    },
    {
      "cell_type": "code",
      "source": [
        "# Step 4.1: Fit K-Means with the optimal K (K=5)\n",
        "optimal_k = 5\n",
        "kmeans = KMeans(n_clusters=optimal_k, init='k-means++', random_state=42, n_init=10)\n",
        "df['Cluster'] = kmeans.fit_predict(X_scaled)\n",
        "\n",
        "# Step 4.2: Extract cluster centroids (transformed back to original scale)\n",
        "# Note: Centroids are in the scaled space, we inverse transform for interpretability\n",
        "centroids_scaled = kmeans.cluster_centers_\n",
        "centroids_original = scaler.inverse_transform(centroids_scaled)\n",
        "centroids_df = pd.DataFrame(centroids_original, columns=['Annual Income (k$)', 'Spending Score (1-100)'])\n",
        "\n",
        "# Step 4.3: Evaluate Clustering with Silhouette Score\n",
        "# The score is calculated on the scaled data and the assigned labels.\n",
        "score = silhouette_score(X_scaled, df['Cluster'])\n",
        "\n",
        "print(f\"\\nOptimal Number of Clusters (K): {optimal_k}\")\n",
        "print(f\"Silhouette Score: {score:.4f}\")\n",
        "print(\"\\nCluster Centroids (Original Scale) for Interpretation:\")\n",
        "print(centroids_df)"
      ],
      "metadata": {
        "colab": {
          "base_uri": "https://localhost:8080/"
        },
        "id": "2O82-WyPN7tV",
        "outputId": "31023b1c-defb-4f40-8d5c-1fd0ce2fbef9"
      },
      "execution_count": 8,
      "outputs": [
        {
          "output_type": "stream",
          "name": "stdout",
          "text": [
            "\n",
            "Optimal Number of Clusters (K): 5\n",
            "Silhouette Score: 0.5547\n",
            "\n",
            "Cluster Centroids (Original Scale) for Interpretation:\n",
            "   Annual Income (k$)  Spending Score (1-100)\n",
            "0           55.296296               49.518519\n",
            "1           86.538462               82.128205\n",
            "2           25.727273               79.363636\n",
            "3           88.200000               17.114286\n",
            "4           26.304348               20.913043\n"
          ]
        }
      ]
    },
    {
      "cell_type": "code",
      "source": [
        "# Step 5: Visualize the Clusters\n",
        "plt.figure(figsize=(12, 8))\n",
        "\n",
        "# Scatter plot of data points, colored by cluster\n",
        "plt.scatter(df['Annual Income (k$)'], df['Spending Score (1-100)'], c=df['Cluster'], cmap='viridis', s=60, alpha=0.8)\n",
        "\n",
        "# Plotting the cluster centroids\n",
        "plt.scatter(centroids_df['Annual Income (k$)'], centroids_df['Spending Score (1-100)'],\n",
        "            marker='X', s=300, color='red', label='Centroids')\n",
        "\n",
        "plt.title(f'Customer Segments using K-Means (K={optimal_k})')\n",
        "plt.xlabel('Annual Income (k$)')\n",
        "plt.ylabel('Spending Score (1-100)')\n",
        "plt.legend()\n",
        "plt.grid(True)\n",
        "plt.savefig('kmeans_clusters.png')\n",
        "plt.close()\n",
        "\n",
        "print(\"\\nVisualization saved as 'kmeans_clusters.png'\")"
      ],
      "metadata": {
        "colab": {
          "base_uri": "https://localhost:8080/"
        },
        "id": "mTxtrhfyN-Gs",
        "outputId": "4707619f-475d-46e5-a21a-8aa7878269e3"
      },
      "execution_count": 9,
      "outputs": [
        {
          "output_type": "stream",
          "name": "stdout",
          "text": [
            "\n",
            "Visualization saved as 'kmeans_clusters.png'\n"
          ]
        }
      ]
    },
    {
      "cell_type": "code",
      "source": [],
      "metadata": {
        "id": "QzAojJFeOBGi"
      },
      "execution_count": null,
      "outputs": []
    }
  ]
}